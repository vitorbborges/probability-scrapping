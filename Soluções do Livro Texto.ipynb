{
 "cells": [
  {
   "cell_type": "code",
   "execution_count": 1,
   "metadata": {
    "ExecuteTime": {
     "end_time": "2022-07-07T13:33:26.607809Z",
     "start_time": "2022-07-07T13:33:26.095666Z"
    }
   },
   "outputs": [],
   "source": [
    "from selenium import webdriver\n",
    "from selenium.webdriver.chrome.service import Service\n",
    "import time\n",
    "import os"
   ]
  },
  {
   "cell_type": "code",
   "execution_count": null,
   "metadata": {
    "ExecuteTime": {
     "start_time": "2022-07-07T13:33:26.191Z"
    },
    "run_control": {
     "marked": true
    }
   },
   "outputs": [
    {
     "name": "stdout",
     "output_type": "stream",
     "text": [
      "vish\n",
      "vish\n",
      "vish\n",
      "vish\n",
      "vish\n",
      "vish\n",
      "vish\n",
      "vish\n",
      "vish\n",
      "vish\n",
      "vish\n",
      "vish\n",
      "vish\n",
      "vish\n",
      "vish\n",
      "vish\n",
      "vish\n",
      "vish\n",
      "vish\n",
      "vish\n",
      "vish\n",
      "vish\n",
      "vish\n",
      "vish\n"
     ]
    }
   ],
   "source": [
    "first = 'https://quizlet.com/explanations/textbook-solutions/calculus-10th-edition-9781118137925/chapter-0-exercise-set-24b-0fcad015-943a-4ccd-aa09-21bdcf1c334b'\n",
    "path = 'C:/Users/vitor/Downloads/chromedriver.exe'\n",
    "\n",
    "service = Service(executable_path=path)\n",
    "driver = webdriver.Chrome(service=service)\n",
    "driver.get(first)\n",
    "time.sleep(1)\n",
    "\n",
    "username = 'vitorbborges@terra.com.br'\n",
    "password = 'Mb196620'\n",
    "\n",
    "driver.find_element(by='xpath', value='//button[@aria-label=\"Log in\"]').click()\n",
    "driver.find_element(by='xpath', value='//div[@class=\"UIInput-content\"]/input[@id=\"username\"]').send_keys(username)\n",
    "driver.find_element(by='xpath', value='//div[@class=\"UIInput-content\"]/input[@id=\"password\"]').send_keys(password)\n",
    "driver.find_element(by='xpath', value='//button[@class=\"UIButton UIButton--fill UIButton--hero\"]').click()\n",
    "time.sleep(1)\n",
    "\n",
    "driver.set_window_size(2000,2000)\n",
    "sol_name = ''\n",
    "for i in reversed(driver.find_elements(by='xpath', value='//div[@class=\"t15zfihx\"]/*')):\n",
    "    sol_name = sol_name + i.text\n",
    "sol_name = sol_name + '.png'\n",
    "solution = driver.find_element(by='xpath', value='//div[@class=\"ExplanationsSolutionCard c5ngj6s\"]')\n",
    "solution.screenshot(sol_name)\n",
    "time.sleep(1)\n",
    "\n",
    "next_sol = driver.find_elements(by='xpath', value='//div[@class=\"NavigationLink--next l1srttcv\"]/a')\n",
    "\n",
    "while True:\n",
    "    \n",
    "    if len(next_sol)==0:\n",
    "        break\n",
    "    else:\n",
    "        try:\n",
    "            next_link=next_sol[0].get_attribute('href')\n",
    "            time.sleep(2)\n",
    "            next_sol[0].click()\n",
    "            time.sleep(2)\n",
    "            next_sol = driver.find_elements(by='xpath', value='//div[@class=\"NavigationLink--next l1srttcv\"]/a')\n",
    "            time.sleep(2)\n",
    "            try:\n",
    "                sol_name = ''\n",
    "                for i in reversed(driver.find_elements(by='xpath', value='//div[@class=\"t15zfihx\"]/*')):\n",
    "                    sol_name = sol_name + i.text\n",
    "                sol_name = sol_name + '.png'\n",
    "                driver.find_element(by='xpath', value='//div[@class=\"ExplanationsSolutionCard c5ngj6s\"]').screenshot(sol_name)\n",
    "                time.sleep(1)\n",
    "            except:\n",
    "                None\n",
    "        except:\n",
    "            print('vish')\n",
    "            time.sleep(10)\n",
    "    \n",
    "driver.close()    "
   ]
  },
  {
   "cell_type": "code",
   "execution_count": null,
   "metadata": {},
   "outputs": [],
   "source": []
  }
 ],
 "metadata": {
  "hide_input": false,
  "kernelspec": {
   "display_name": "Python 3",
   "language": "python",
   "name": "python3"
  },
  "language_info": {
   "codemirror_mode": {
    "name": "ipython",
    "version": 3
   },
   "file_extension": ".py",
   "mimetype": "text/x-python",
   "name": "python",
   "nbconvert_exporter": "python",
   "pygments_lexer": "ipython3",
   "version": "3.7.4"
  },
  "varInspector": {
   "cols": {
    "lenName": 16,
    "lenType": 16,
    "lenVar": 40
   },
   "kernels_config": {
    "python": {
     "delete_cmd_postfix": "",
     "delete_cmd_prefix": "del ",
     "library": "var_list.py",
     "varRefreshCmd": "print(var_dic_list())"
    },
    "r": {
     "delete_cmd_postfix": ") ",
     "delete_cmd_prefix": "rm(",
     "library": "var_list.r",
     "varRefreshCmd": "cat(var_dic_list()) "
    }
   },
   "types_to_exclude": [
    "module",
    "function",
    "builtin_function_or_method",
    "instance",
    "_Feature"
   ],
   "window_display": false
  }
 },
 "nbformat": 4,
 "nbformat_minor": 2
}
